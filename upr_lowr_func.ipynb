{
 "cells": [
  {
   "cell_type": "code",
   "execution_count": 1,
   "id": "952d9444",
   "metadata": {},
   "outputs": [
    {
     "name": "stdout",
     "output_type": "stream",
     "text": [
      "Enter the string: The quick Brow Fox\n",
      "Number of upper case in str: 3\n",
      "Number of lower case in str: 12\n"
     ]
    }
   ],
   "source": [
    "def upr_lowr_case(str):\n",
    "    upper_case_count = 0\n",
    "    lower_case_count = 0\n",
    "    for i in str:\n",
    "        if i.isupper():\n",
    "            upper_case_count += 1\n",
    "        elif i.islower():\n",
    "            lower_case_count += 1\n",
    "    print(\"Number of upper case in str:\",upper_case_count)\n",
    "    print(\"Number of lower case in str:\",lower_case_count)\n",
    "s = str(input(\"Enter the string: \"))\n",
    "upr_lowr_case(s)\n"
   ]
  },
  {
   "cell_type": "code",
   "execution_count": null,
   "id": "a636ae6d",
   "metadata": {},
   "outputs": [],
   "source": []
  }
 ],
 "metadata": {
  "kernelspec": {
   "display_name": "Python 3 (ipykernel)",
   "language": "python",
   "name": "python3"
  },
  "language_info": {
   "codemirror_mode": {
    "name": "ipython",
    "version": 3
   },
   "file_extension": ".py",
   "mimetype": "text/x-python",
   "name": "python",
   "nbconvert_exporter": "python",
   "pygments_lexer": "ipython3",
   "version": "3.10.2"
  }
 },
 "nbformat": 4,
 "nbformat_minor": 5
}
